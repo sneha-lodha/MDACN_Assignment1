{
 "cells": [
  {
   "cell_type": "code",
   "execution_count": 81,
   "metadata": {},
   "outputs": [],
   "source": [
    "import pandas as pd\n",
    "import pathpy as pp\n",
    "import numpy as np\n",
    "import scipy\n"
   ]
  },
  {
   "cell_type": "code",
   "execution_count": 5,
   "metadata": {},
   "outputs": [],
   "source": [
    "def load_df():\n",
    "    network_df = pd.read_excel (r'manufacturing_emails_temporal_network.xlsx')\n",
    "    return network_df\n",
    "\n",
    "def load_df_as_network(df):\n",
    "    temporal = pp.TemporalNetwork()\n",
    "    for ind in df.index:\n",
    "        temporal.add_edge(df['node1'][ind], df['node2'][ind], int(df['timestamp'][ind]))\n",
    "    return temporal\n",
    "\n",
    "net_df = load_df()\n",
    "temporal = load_df_as_network(net_df)\n"
   ]
  },
  {
   "cell_type": "code",
   "execution_count": 75,
   "metadata": {},
   "outputs": [
    {
     "name": "stdout",
     "output_type": "stream",
     "text": [
      "Undirected network\n",
      "Nodes:\t\t\t\t167\n",
      "Links:\t\t\t\t3250\n",
      "\n"
     ]
    }
   ],
   "source": [
    "links = net_df[[\"node1\",\"node2\"]]\n",
    "links = links.drop_duplicates()\n",
    "net = pp.Network(directed=False)\n",
    "np_links = links.to_numpy()\n",
    "for l in np_links:\n",
    "    net.add_edge(l[0]-1, l[1]-1)\n",
    "print(net)\n"
   ]
  },
  {
   "cell_type": "code",
   "execution_count": 86,
   "metadata": {},
   "outputs": [
    {
     "data": {
      "text/plain": [
       "array([ 60.63926551+0.j, -17.75282886+0.j,  15.4216674 +0.j,\n",
       "        13.42432679+0.j,  12.53201819+0.j,  11.36385816+0.j])"
      ]
     },
     "execution_count": 86,
     "metadata": {},
     "output_type": "execute_result"
    }
   ],
   "source": [
    "pp.algorithms.modularity.assortativity_coeff(net)\n",
    "# assortativity_coeff(net)\n",
    "A = net.adjacency_matrix()\n",
    "print(A)\n",
    "\n",
    "scipy.sparse.linalg.eigs(A)"
   ]
  },
  {
   "cell_type": "code",
   "execution_count": null,
   "metadata": {},
   "outputs": [],
   "source": []
  }
 ],
 "metadata": {
  "interpreter": {
   "hash": "d2152fd7f0bbc62aa1baff8c990435d1e2c7175d001561303988032604c11a48"
  },
  "kernelspec": {
   "display_name": "Python 3.10.1 64-bit",
   "language": "python",
   "name": "python3"
  },
  "language_info": {
   "codemirror_mode": {
    "name": "ipython",
    "version": 3
   },
   "file_extension": ".py",
   "mimetype": "text/x-python",
   "name": "python",
   "nbconvert_exporter": "python",
   "pygments_lexer": "ipython3",
   "version": "3.10.2"
  },
  "orig_nbformat": 4
 },
 "nbformat": 4,
 "nbformat_minor": 2
}
