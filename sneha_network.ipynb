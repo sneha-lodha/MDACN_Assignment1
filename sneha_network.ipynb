{
 "cells": [
  {
   "cell_type": "code",
   "execution_count": 2,
   "metadata": {},
   "outputs": [],
   "source": [
    "import pandas as pd\n",
    "import pathpy as pp\n"
   ]
  },
  {
   "cell_type": "code",
   "execution_count": 5,
   "metadata": {},
   "outputs": [],
   "source": [
    "def load_df():\n",
    "    network_df = pd.read_excel (r'manufacturing_emails_temporal_network.xlsx')\n",
    "    return network_df\n",
    "\n",
    "def load_df_as_network(df):\n",
    "    temporal = pp.TemporalNetwork()\n",
    "    for ind in df.index:\n",
    "        temporal.add_edge(df['node1'][ind], df['node2'][ind], int(df['timestamp'][ind]))\n",
    "    return temporal\n",
    "\n",
    "net_df = load_df()\n",
    "temporal = load_df_as_network(net_df)\n"
   ]
  }
 ],
 "metadata": {
  "interpreter": {
   "hash": "d2152fd7f0bbc62aa1baff8c990435d1e2c7175d001561303988032604c11a48"
  },
  "kernelspec": {
   "display_name": "Python 3.10.1 64-bit",
   "language": "python",
   "name": "python3"
  },
  "language_info": {
   "codemirror_mode": {
    "name": "ipython",
    "version": 3
   },
   "file_extension": ".py",
   "mimetype": "text/x-python",
   "name": "python",
   "nbconvert_exporter": "python",
   "pygments_lexer": "ipython3",
   "version": "3.10.2"
  },
  "orig_nbformat": 4
 },
 "nbformat": 4,
 "nbformat_minor": 2
}
