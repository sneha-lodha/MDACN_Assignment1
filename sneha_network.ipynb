{
 "cells": [
  {
   "cell_type": "code",
   "execution_count": 21,
   "metadata": {},
   "outputs": [],
   "source": [
    "import pandas as pd\n",
    "import pathpy as pp\n",
    "import numpy as np\n",
    "import scipy\n",
    "import matplotlib.pyplot as plt\n"
   ]
  },
  {
   "cell_type": "code",
   "execution_count": null,
   "metadata": {},
   "outputs": [],
   "source": [
    "def load_df():\n",
    "    network_df = pd.read_excel (r'manufacturing_emails_temporal_network.xlsx')\n",
    "    return network_df\n",
    "\n",
    "def load_df_as_network(df):\n",
    "    temporal = pp.TemporalNetwork()\n",
    "    for ind in df.index:\n",
    "        temporal.add_edge(df['node1'][ind], df['node2'][ind], int(df['timestamp'][ind]))\n",
    "    return temporal\n",
    "\n",
    "net_df = load_df()\n",
    "temporal = load_df_as_network(net_df)\n",
    "\n",
    "net_df\n"
   ]
  },
  {
   "cell_type": "code",
   "execution_count": null,
   "metadata": {},
   "outputs": [],
   "source": [
    "links = net_df[[\"node1\",\"node2\"]]\n",
    "links = links.drop_duplicates()\n",
    "net = pp.Network(directed=False)\n",
    "np_links = links.to_numpy()\n",
    "for l in np_links:\n",
    "    net.add_edge(l[0]-1, l[1]-1)\n",
    "print(net)\n"
   ]
  },
  {
   "cell_type": "code",
   "execution_count": null,
   "metadata": {},
   "outputs": [],
   "source": [
    "pp.algorithms.modularity.assortativity_coeff(net)\n",
    "# assortativity_coeff(net)\n",
    "A = net.adjacency_matrix()\n",
    "print(A)\n",
    "\n",
    "scipy.sparse.linalg.eigs(A)"
   ]
  },
  {
   "cell_type": "code",
   "execution_count": null,
   "metadata": {},
   "outputs": [],
   "source": [
    "\n",
    "gdata = net_df.copy()\n",
    "print(gdata)\n",
    "\n",
    "g2 = gdata.copy()\n",
    "g2['timestamp'] = np.random.permutation(g2.timestamp)\n",
    "print(g2)\n",
    "\n"
   ]
  },
  {
   "cell_type": "code",
   "execution_count": null,
   "metadata": {},
   "outputs": [],
   "source": [
    "\n",
    "print(links)\n",
    "g3 = pd.DataFrame()\n",
    "\n",
    "timestamps = gdata['timestamp'].to_numpy()\n",
    "node1s = links['node1'].to_numpy()\n",
    "node2s = links['node2'].to_numpy()\n",
    "\n",
    "nodes = np.stack((node1s, node2s), axis=1)\n",
    "\n",
    "n1 = []\n",
    "n2 = []\n",
    "ts = []\n",
    "\n",
    "for t in timestamps:\n",
    "    tuple = nodes[np.random.randint(nodes.shape[0], size=1), :][0]\n",
    "    n1.append(tuple[0])\n",
    "    n2.append(tuple[1])\n",
    "    ts.append(t)\n",
    "\n",
    "g3['node1'] = np.array(n1)\n",
    "g3['node2'] = np.array(n2)\n",
    "g3['timestamp'] = np.array(ts)\n",
    "g3.columns = ['node1', 'node2', 'timestamp']\n",
    "print(g3)\n"
   ]
  },
  {
   "cell_type": "code",
   "execution_count": 19,
   "metadata": {},
   "outputs": [
    {
     "name": "stdout",
     "output_type": "stream",
     "text": [
      "      node1  node2  timestamp\n",
      "0         1      2          1\n",
      "377       1      2        254\n",
      "378       1      2        255\n",
      "589       1      2        414\n",
      "1026      1      2        718\n",
      "...     ...    ...        ...\n",
      "7315    146    147       4910\n",
      "7445    146    147       4999\n",
      "7481    146    147       5024\n",
      "7721    146    147       5193\n",
      "8510    146    147       5747\n",
      "\n",
      "[82876 rows x 3 columns]\n"
     ]
    }
   ],
   "source": [
    "# Ordering dataframes by node1, node2 and then timestamp\n",
    "gdata = gdata.sort_values(by=['node1', 'node2', 'timestamp'])\n",
    "print(gdata)\n",
    "g2 = g2.sort_values(by=['node1', 'node2', 'timestamp'])\n",
    "g3 = g3.sort_values(by=['node1', 'node2', 'timestamp'])"
   ]
  },
  {
   "cell_type": "code",
   "execution_count": 17,
   "metadata": {},
   "outputs": [],
   "source": [
    "def get_time_intervals(df):\n",
    "    node1s = df['node1'].to_numpy()\n",
    "    node2s = df['node2'].to_numpy()\n",
    "    times = df['timestamp'].to_numpy()\n",
    "    assert(len(node1s) == len(node2s) == len(times))\n",
    "\n",
    "    intervals = []\n",
    "    for t in range(len(times)-1):\n",
    "        if (node1s[t] == node1s[t+1] and node2s[t] == node2s[t+1]):\n",
    "            intervals.append(times[t+1]-times[t])\n",
    "        else: \n",
    "            continue\n",
    "    return intervals"
   ]
  },
  {
   "cell_type": "code",
   "execution_count": 106,
   "metadata": {},
   "outputs": [
    {
     "name": "stdout",
     "output_type": "stream",
     "text": [
      "55284\n",
      "55966\n",
      "25077\n"
     ]
    },
    {
     "data": {
      "image/png": "[encoded data removed]",
      "text/plain": [
       "<Figure size 432x288 with 3 Axes>"
      ]
     },
     "metadata": {
      "needs_background": "light"
     },
     "output_type": "display_data"
    }
   ],
   "source": [
    "import matplotlib.gridspec as gridspec\n",
    "\n",
    "# Create 2x2 sub plots\n",
    "gs = gridspec.GridSpec(2, 2)\n",
    "gs.update(hspace=0.5, wspace=0.5)\n",
    "\n",
    "fig = plt.figure()\n",
    "\n",
    "ax1 = fig.add_subplot(gs[0, 0]) # row 0, col 0\n",
    "gdata_intervals = get_time_intervals(gdata)\n",
    "print(max(gdata_intervals))\n",
    "_, bins, _ = ax1.hist(gdata_intervals, bins=90)\n",
    "ax1.set_title('GData interval pdf')\n",
    "ax1.set_ylabel('frequency')\n",
    "\n",
    "ax2 = fig.add_subplot(gs[0, 1])\n",
    "g2_intervals = get_time_intervals(g2)\n",
    "print(max(g2_intervals))\n",
    "_, bins, _ = ax2.hist(g2_intervals, bins=90)\n",
    "ax2.set_title('G2 interval pdf')\n",
    "ax2.set_xlabel('interval size')\n",
    "\n",
    "ax3 = fig.add_subplot(gs[1, 0])\n",
    "g3_intervals = get_time_intervals(g3)\n",
    "print(max(g3_intervals))\n",
    "_, bins, _ = ax3.hist(g3_intervals, bins=90)\n",
    "ax3.set_title('G3 interval pdf')\n",
    "ax3.set_xlabel('interval size')\n",
    "ax3.set_ylabel('frequency')\n",
    "# print(bins)\n",
    "# gdata_intervals = get_time_intervals(g3)\n",
    "# print(max(gdata_intervals))\n",
    "# plt.hist(get_time_intervals(gdata), bins=50)\n",
    "# plt.yscale('log')\n",
    "plt.savefig('q14.png')\n"
   ]
  }
 ],
 "metadata": {
  "interpreter": {
   "hash": "d2152fd7f0bbc62aa1baff8c990435d1e2c7175d001561303988032604c11a48"
  },
  "kernelspec": {
   "display_name": "Python 3.10.1 64-bit",
   "language": "python",
   "name": "python3"
  },
  "language_info": {
   "codemirror_mode": {
    "name": "ipython",
    "version": 3
   },
   "file_extension": ".py",
   "mimetype": "text/x-python",
   "name": "python",
   "nbconvert_exporter": "python",
   "pygments_lexer": "ipython3",
   "version": "3.10.2"
  },
  "orig_nbformat": 4
 },
 "nbformat": 4,
 "nbformat_minor": 2
}
