{
 "cells": [
  {
   "cell_type": "code",
   "execution_count": 57,
   "metadata": {},
   "outputs": [],
   "source": [
    "import pandas as pd\n",
    "import pathpy as pp\n",
    "import numpy as np\n"
   ]
  },
  {
   "cell_type": "code",
   "execution_count": 5,
   "metadata": {},
   "outputs": [],
   "source": [
    "def load_df():\n",
    "    network_df = pd.read_excel (r'manufacturing_emails_temporal_network.xlsx')\n",
    "    return network_df\n",
    "\n",
    "def load_df_as_network(df):\n",
    "    temporal = pp.TemporalNetwork()\n",
    "    for ind in df.index:\n",
    "        temporal.add_edge(df['node1'][ind], df['node2'][ind], int(df['timestamp'][ind]))\n",
    "    return temporal\n",
    "\n",
    "net_df = load_df()\n",
    "temporal = load_df_as_network(net_df)\n"
   ]
  },
  {
   "cell_type": "code",
   "execution_count": 75,
   "metadata": {},
   "outputs": [
    {
     "name": "stdout",
     "output_type": "stream",
     "text": [
      "Undirected network\n",
      "Nodes:\t\t\t\t167\n",
      "Links:\t\t\t\t3250\n",
      "\n"
     ]
    }
   ],
   "source": [
    "links = net_df[[\"node1\",\"node2\"]]\n",
    "links = links.drop_duplicates()\n",
    "net = pp.Network(directed=False)\n",
    "np_links = links.to_numpy()\n",
    "for l in np_links:\n",
    "    net.add_edge(l[0]-1, l[1]-1)\n",
    "print(net)\n"
   ]
  },
  {
   "cell_type": "code",
   "execution_count": 73,
   "metadata": {},
   "outputs": [],
   "source": [
    "def q(network, C=None, delta=None):\n",
    "    assert C is None or delta is None, 'Error: Cannot use clustering and delta-function simultaneously'\n",
    "\n",
    "    m = network.ecount()\n",
    "    A = network.adjacency_matrix(weighted=False)\n",
    "    idx = network.node_to_name_map()\n",
    "    q = 0.0\n",
    "    print(network.nodes[1])\n",
    "    for v in range(1, len(network.nodes)):\n",
    "        print(network.nodes[v])\n",
    "        for w in range(1, len(network.nodes)):\n",
    "            if (C != None and C[v] == C[w]) or (delta != None and delta(v,w)):\n",
    "                print(v)\n",
    "                q += A[idx[v], idx[w]] - network.nodes[v]['indegree']*network.nodes[w]['outdegree']/(2*m)\n",
    "    q /= 2*m\n",
    "    return q\n",
    "\n",
    "def q_merge(network, C, merge=None):\n",
    "    m = network.ecount()\n",
    "    n = network.ncount()    \n",
    "    A = network.adjacency_matrix(weighted=False)\n",
    "    idx = network.node_to_name_map()\n",
    "    q = 0.0\n",
    "    for v in network.nodes:\n",
    "        for w in network.nodes:\n",
    "            if C[v] == C[w] or (merge is not None and C[v] in merge and C[w] in merge):\n",
    "                q += A[idx[v], idx[w]] - network.nodes[v]['indegree']*network.nodes[w]['outdegree']/(2*m)\n",
    "    q /= 2*m\n",
    "    return q\n",
    "\n",
    "def q_max(network, C=None, delta=None):\n",
    "    assert C is None or delta is None, 'Error: Cannot use clustering and delta-function simultaneously'\n",
    "\n",
    "    m = network.ecount()\n",
    "    idx = network.node_to_name_map()\n",
    "    q = 0.0\n",
    "    for v in network.nodes:\n",
    "        for w in network.nodes:\n",
    "            if (C != None and C[v] == C[w]) or (delta != None and delta(v,w)):\n",
    "                q -= network.nodes[v]['indegree']*network.nodes[w]['outdegree']/(2*m)\n",
    "    q /= 2*m\n",
    "    return q"
   ]
  },
  {
   "cell_type": "code",
   "execution_count": 55,
   "metadata": {},
   "outputs": [],
   "source": [
    "def find_communities(network, iterations=100):\n",
    "    # start with each node being in a separate cluster\n",
    "    C = {}\n",
    "    community_to_nodes = {}\n",
    "    c = 0\n",
    "    for n in network.nodes:\n",
    "        C[n] = c\n",
    "        community_to_nodes[c] = set([n])\n",
    "        c += 1\n",
    "\n",
    "    print(\"hghhv\")\n",
    "    print(network.nodes[6])\n",
    "    q_current = q(network, C)\n",
    "    communities = list(C.values())\n",
    "    \n",
    "    for i in range(iterations):\n",
    "        # randomly choose two communities\n",
    "        x, y = np.random.choice(communities, size=2)\n",
    "        # check Q of merged communities\n",
    "        q_new = q_merge(network, C, merge=set([x, y]))\n",
    "        if q_new > q_current:\n",
    "            # actually merge the communities\n",
    "            for n in community_to_nodes[x]:\n",
    "                C[n] = y\n",
    "            community_to_nodes[y] = community_to_nodes[y] | community_to_nodes[x]\n",
    "            q_current = q_new\n",
    "            communities.remove(x)\n",
    "            del community_to_nodes[x]\n",
    "    return C, q_current"
   ]
  },
  {
   "cell_type": "code",
   "execution_count": 37,
   "metadata": {},
   "outputs": [],
   "source": [
    "def assortativity_coeff(network, C=None):\n",
    "    C, q_opt = find_communities(network)\n",
    "    return q_opt/q_max(network, C)"
   ]
  },
  {
   "cell_type": "code",
   "execution_count": 77,
   "metadata": {},
   "outputs": [
    {
     "data": {
      "text/plain": [
       "0.37010452589087517"
      ]
     },
     "execution_count": 77,
     "metadata": {},
     "output_type": "execute_result"
    }
   ],
   "source": [
    "pp.algorithms.modularity.assortativity_coeff(net)\n",
    "# assortativity_coeff(net)"
   ]
  }
 ],
 "metadata": {
  "interpreter": {
   "hash": "d2152fd7f0bbc62aa1baff8c990435d1e2c7175d001561303988032604c11a48"
  },
  "kernelspec": {
   "display_name": "Python 3.10.1 64-bit",
   "language": "python",
   "name": "python3"
  },
  "language_info": {
   "codemirror_mode": {
    "name": "ipython",
    "version": 3
   },
   "file_extension": ".py",
   "mimetype": "text/x-python",
   "name": "python",
   "nbconvert_exporter": "python",
   "pygments_lexer": "ipython3",
   "version": "3.10.2"
  },
  "orig_nbformat": 4
 },
 "nbformat": 4,
 "nbformat_minor": 2
}
