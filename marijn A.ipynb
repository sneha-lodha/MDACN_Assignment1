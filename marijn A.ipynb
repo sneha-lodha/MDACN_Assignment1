{
 "cells": [
  {
   "cell_type": "code",
   "execution_count": 123,
   "id": "238fd9c0",
   "metadata": {},
   "outputs": [],
   "source": [
    "import pandas as pd\n",
    "import pathpy as pp\n",
    "import pathpy.algorithms.statistics as stat\n",
    "import pathpy.algorithms.shortest_paths as shorty\n",
    "import numpy as np\n",
    "import math as m\n",
    "import matplotlib.pyplot as plt\n"
   ]
  },
  {
   "cell_type": "code",
   "execution_count": 2,
   "id": "1b6646ef",
   "metadata": {
    "scrolled": true
   },
   "outputs": [],
   "source": [
    "df = pd.read_excel (r'manufacturing_emails_temporal_network.xlsx')"
   ]
  },
  {
   "cell_type": "code",
   "execution_count": 16,
   "id": "dbcc7957",
   "metadata": {},
   "outputs": [
    {
     "name": "stdout",
     "output_type": "stream",
     "text": [
      "167\n"
     ]
    }
   ],
   "source": [
    "nodes = pd.concat([df[\"node1\"], df[\"node2\"]]).unique()\n",
    "N = len(nodes)\n",
    "print (len(nodes))"
   ]
  },
  {
   "cell_type": "code",
   "execution_count": 6,
   "id": "8d06c728",
   "metadata": {},
   "outputs": [
    {
     "name": "stdout",
     "output_type": "stream",
     "text": [
      "Nodes:\t\t\t167\n",
      "Time-stamped links:\t82876\n",
      "Links/Nodes:\t\t496.2634730538922\n",
      "Observation period:\t[1, 57791]\n",
      "Observation length:\t 57790 \n",
      "Time stamps:\t\t 57791 \n",
      "Avg. inter-event dt:\t 1.0\n",
      "Min/Max inter-event dt:\t 1/1\n"
     ]
    }
   ],
   "source": [
    "temporal = pp.TemporalNetwork()\n",
    "for ind in df.index:\n",
    "    temporal.add_edge(df['node1'][ind], df['node2'][ind], int(df['timestamp'][ind]))\n",
    "print(temporal)"
   ]
  },
  {
   "cell_type": "code",
   "execution_count": 18,
   "id": "c9838f6c",
   "metadata": {},
   "outputs": [
    {
     "data": {
      "text/plain": [
       "38.92215568862275"
      ]
     },
     "execution_count": 18,
     "metadata": {},
     "output_type": "execute_result"
    }
   ],
   "source": [
    "links = df[[\"node1\",\"node2\"]]\n",
    "links = links.drop_duplicates()\n",
    "L = links.shape[0]\n",
    "aD = L*2/N\n",
    "aD"
   ]
  },
  {
   "cell_type": "code",
   "execution_count": 31,
   "id": "7f4bb37d",
   "metadata": {},
   "outputs": [
    {
     "name": "stdout",
     "output_type": "stream",
     "text": [
      "Undirected network\n",
      "Nodes:\t\t\t\t167\n",
      "Links:\t\t\t\t3250\n",
      "\n"
     ]
    }
   ],
   "source": [
    "net = pp.Network(directed=False)\n",
    "np_links = links.to_numpy()\n",
    "for l in np_links:\n",
    "    net.add_edge(l[0], l[1])\n",
    "print(net)\n",
    "\n"
   ]
  },
  {
   "cell_type": "code",
   "execution_count": 42,
   "id": "98abdd02",
   "metadata": {},
   "outputs": [
    {
     "name": "stdout",
     "output_type": "stream",
     "text": [
      "Mean: 38.92215568862275 \n",
      "Standard deviation: 50.08770750507327 \n"
     ]
    }
   ],
   "source": [
    "\n",
    "print(f\"Mean: {stat.mean_degree(net, degree='degree')} \")\n",
    "print(f\"Standard deviation: {stat.degree_moment(net, 2, degree='degree')**0.5} \")\n"
   ]
  },
  {
   "cell_type": "code",
   "execution_count": 43,
   "id": "19ec12ad",
   "metadata": {},
   "outputs": [
    {
     "data": {
      "text/plain": [
       "0.591863208548695"
      ]
     },
     "execution_count": 43,
     "metadata": {},
     "output_type": "execute_result"
    }
   ],
   "source": [
    "stat.avg_clustering_coefficient(net)"
   ]
  },
  {
   "cell_type": "code",
   "execution_count": 91,
   "id": "86ba4f3e",
   "metadata": {},
   "outputs": [],
   "source": [
    "paths = shorty.shortest_paths(net)"
   ]
  },
  {
   "cell_type": "code",
   "execution_count": 108,
   "id": "28941d8e",
   "metadata": {},
   "outputs": [
    {
     "name": "stdout",
     "output_type": "stream",
     "text": [
      "167\n",
      "27889\n",
      "Average hop count: 2.955609738606619\n",
      "Max hop count: 6\n"
     ]
    }
   ],
   "source": [
    "p = list(paths.values())\n",
    "total = [] \n",
    "\n",
    "# iterate over all the nodes\n",
    "for i in range(N):\n",
    "    # map dict to list\n",
    "    p[i] = list(p[i].values())\n",
    "    # get the length of each shortest path\n",
    "    p[i] =  list(map(lambda x: len(list(x)[0]), p[i]))\n",
    "    total = total + p[i]\n",
    "\n",
    "print(len(paths))\n",
    "print(len(total))\n",
    "print(f\"Average hop count: {np.average(total)}\")\n",
    "print(f\"Max hop count: {np.max(total)}\")\n",
    "\n",
    "\n",
    "\n"
   ]
  },
  {
   "cell_type": "code",
   "execution_count": 105,
   "id": "a503452e",
   "metadata": {},
   "outputs": [
    {
     "name": "stdout",
     "output_type": "stream",
     "text": [
      "5.117993812416755\n"
     ]
    }
   ],
   "source": [
    "print(m.log(N))"
   ]
  },
  {
   "cell_type": "code",
   "execution_count": 152,
   "id": "3a475bae",
   "metadata": {},
   "outputs": [
    {
     "name": "stdout",
     "output_type": "stream",
     "text": [
      "      node1  node2  timestamp\n",
      "703      13     14       2908\n",
      "203       3     13       1141\n",
      "201       3      8        832\n",
      "2406     50     75        775\n",
      "2731     65     94        733\n",
      "3250\n",
      "[1.00000000e+00 1.97435049e+00 3.89805984e+00 7.69613634e+00\n",
      " 1.51948705e+01 3.00000000e+01 5.92305146e+01 1.16941795e+02\n",
      " 2.30884090e+02 4.55846116e+02 9.00000000e+02 1.77691544e+03\n",
      " 3.50825386e+03 6.92652271e+03 1.36753835e+04]\n"
     ]
    },
    {
     "data": {
      "text/plain": [
       "Text(0, 0.5, 'fw(x)')"
      ]
     },
     "execution_count": 152,
     "metadata": {},
     "output_type": "execute_result"
    },
    {
     "data": {
      "image/png": "[encoded data removed]",
      "text/plain": [
       "<Figure size 432x288 with 1 Axes>"
      ]
     },
     "metadata": {
      "needs_background": "light"
     },
     "output_type": "display_data"
    }
   ],
   "source": [
    "weighted_edges = df.groupby(['node1', 'node2'], as_index=False).agg({\"timestamp\": \"count\"}).sort_values(by=\"timestamp\", ascending=False)\n",
    "print(weighted_edges.head())\n",
    "\n",
    "weights = weighted_edges[\"timestamp\"].to_numpy()\n",
    "print(len(weights))\n",
    "df.sort_values(by=\"timestamp\", ascending=False)\n",
    "\n",
    "\n",
    "bins = 30**(np.arange(0,3, 0.2))\n",
    "print( bins)\n",
    "plt.xscale('log')\n",
    "plt.hist(weights, bins = bins, density=True, log=True)\n",
    "plt.xlabel(\"Link weights\")\n",
    "plt.ylabel(\"fw(x)\")\n"
   ]
  },
  {
   "cell_type": "code",
   "execution_count": null,
   "id": "fba04895",
   "metadata": {},
   "outputs": [],
   "source": []
  }
 ],
 "metadata": {
  "kernelspec": {
   "display_name": "Python 3 (ipykernel)",
   "language": "python",
   "name": "python3"
  },
  "language_info": {
   "codemirror_mode": {
    "name": "ipython",
    "version": 3
   },
   "file_extension": ".py",
   "mimetype": "text/x-python",
   "name": "python",
   "nbconvert_exporter": "python",
   "pygments_lexer": "ipython3",
   "version": "3.8.12"
  }
 },
 "nbformat": 4,
 "nbformat_minor": 5
}
