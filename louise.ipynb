{
 "cells": [
  {
   "cell_type": "code",
   "execution_count": 2,
   "id": "4d44bb80",
   "metadata": {},
   "outputs": [],
   "source": [
    "import pandas as pd\n",
    "import pathpy as pp\n",
    "\n",
    "df = pd.read_excel (r'manufacturing_emails_temporal_network.xlsx')\n",
    "data = df.to_numpy()"
   ]
  },
  {
   "cell_type": "code",
   "execution_count": 3,
   "id": "979eb8f3",
   "metadata": {},
   "outputs": [
    {
     "name": "stdout",
     "output_type": "stream",
     "text": [
      "Nodes:\t\t\t167\n",
      "Time-stamped links:\t82875\n",
      "Links/Nodes:\t\t496.25748502994014\n",
      "Observation period:\t[1, 57790]\n",
      "Observation length:\t 57789 \n",
      "Time stamps:\t\t 57790 \n",
      "Avg. inter-event dt:\t 1.0\n",
      "Min/Max inter-event dt:\t 1/1\n"
     ]
    }
   ],
   "source": [
    "t = pp.TemporalNetwork()\n",
    "    \n",
    "for i in range (len(data)-1):\n",
    "    t.add_edge(int(data[i,0]), int(data[i,1]), int(data[i,2]))\n",
    "        \n",
    "print(t)\n"
   ]
  },
  {
   "cell_type": "code",
   "execution_count": 4,
   "id": "649d8c62",
   "metadata": {},
   "outputs": [
    {
     "name": "stdout",
     "output_type": "stream",
     "text": [
      "Undirected network\n",
      "Nodes:\t\t\t\t167\n",
      "Links:\t\t\t\t3250\n",
      "\n"
     ]
    }
   ],
   "source": [
    "n = pp.Network()\n",
    "for i in range (len(data)-1):\n",
    "    n.add_edge(int(data[i,0]), int(data[i,1]))\n",
    "        \n",
    "print(n)"
   ]
  },
  {
   "cell_type": "code",
   "execution_count": 7,
   "id": "69d9fe8e",
   "metadata": {},
   "outputs": [
    {
     "data": {
      "text/plain": [
       "38.92215568862275"
      ]
     },
     "execution_count": 7,
     "metadata": {},
     "output_type": "execute_result"
    }
   ],
   "source": [
    "pp.algorithms.statistics.mean_degree(n)"
   ]
  },
  {
   "cell_type": "code",
   "execution_count": 8,
   "id": "25169cb3",
   "metadata": {},
   "outputs": [
    {
     "data": {
      "text/plain": [
       "Counter({130: 0.011976047904191617,\n",
       "         69: 0.023952095808383235,\n",
       "         68: 0.005988023952095809,\n",
       "         65: 0.011976047904191617,\n",
       "         54: 0.023952095808383235,\n",
       "         48: 0.029940119760479042,\n",
       "         76: 0.005988023952095809,\n",
       "         57: 0.029940119760479042,\n",
       "         63: 0.005988023952095809,\n",
       "         61: 0.011976047904191617,\n",
       "         25: 0.023952095808383235,\n",
       "         27: 0.005988023952095809,\n",
       "         64: 0.017964071856287425,\n",
       "         24: 0.005988023952095809,\n",
       "         35: 0.011976047904191617,\n",
       "         83: 0.005988023952095809,\n",
       "         40: 0.023952095808383235,\n",
       "         50: 0.029940119760479042,\n",
       "         55: 0.03592814371257485,\n",
       "         80: 0.005988023952095809,\n",
       "         42: 0.011976047904191617,\n",
       "         34: 0.011976047904191617,\n",
       "         66: 0.011976047904191617,\n",
       "         19: 0.011976047904191617,\n",
       "         53: 0.029940119760479042,\n",
       "         62: 0.011976047904191617,\n",
       "         33: 0.005988023952095809,\n",
       "         128: 0.011976047904191617,\n",
       "         41: 0.011976047904191617,\n",
       "         136: 0.011976047904191617,\n",
       "         139: 0.005988023952095809,\n",
       "         46: 0.017964071856287425,\n",
       "         26: 0.011976047904191617,\n",
       "         84: 0.011976047904191617,\n",
       "         49: 0.017964071856287425,\n",
       "         93: 0.005988023952095809,\n",
       "         30: 0.011976047904191617,\n",
       "         29: 0.023952095808383235,\n",
       "         58: 0.005988023952095809,\n",
       "         47: 0.011976047904191617,\n",
       "         72: 0.011976047904191617,\n",
       "         12: 0.017964071856287425,\n",
       "         60: 0.005988023952095809,\n",
       "         43: 0.005988023952095809,\n",
       "         67: 0.005988023952095809,\n",
       "         39: 0.005988023952095809,\n",
       "         70: 0.005988023952095809,\n",
       "         21: 0.023952095808383235,\n",
       "         14: 0.023952095808383235,\n",
       "         23: 0.005988023952095809,\n",
       "         7: 0.005988023952095809,\n",
       "         22: 0.005988023952095809,\n",
       "         38: 0.005988023952095809,\n",
       "         28: 0.011976047904191617,\n",
       "         16: 0.005988023952095809,\n",
       "         4: 0.023952095808383235,\n",
       "         103: 0.005988023952095809,\n",
       "         8: 0.005988023952095809,\n",
       "         17: 0.005988023952095809,\n",
       "         15: 0.005988023952095809,\n",
       "         20: 0.011976047904191617,\n",
       "         9: 0.017964071856287425,\n",
       "         3: 0.017964071856287425,\n",
       "         1: 0.1377245508982036,\n",
       "         2: 0.029940119760479042})"
      ]
     },
     "execution_count": 8,
     "metadata": {},
     "output_type": "execute_result"
    }
   ],
   "source": [
    "pp.algorithms.statistics.degree_dist(n)"
   ]
  },
  {
   "cell_type": "code",
   "execution_count": null,
   "id": "3c055ed1",
   "metadata": {},
   "outputs": [],
   "source": []
  }
 ],
 "metadata": {
  "kernelspec": {
   "display_name": "Python 3 (ipykernel)",
   "language": "python",
   "name": "python3"
  },
  "language_info": {
   "codemirror_mode": {
    "name": "ipython",
    "version": 3
   },
   "file_extension": ".py",
   "mimetype": "text/x-python",
   "name": "python",
   "nbconvert_exporter": "python",
   "pygments_lexer": "ipython3",
   "version": "3.9.10"
  }
 },
 "nbformat": 4,
 "nbformat_minor": 5
}
