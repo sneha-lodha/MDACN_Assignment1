{
 "cells": [
  {
   "cell_type": "code",
   "execution_count": 3,
   "id": "05cc653c",
   "metadata": {},
   "outputs": [],
   "source": [
    "import pandas as pd\n",
    "import pathpy as pp\n",
    "\n",
    "df = pd.read_excel (r'manufacturing_emails_temporal_network.xlsx')\n",
    "data = df.to_numpy()"
   ]
  },
  {
   "cell_type": "code",
   "execution_count": 4,
   "id": "1333485e",
   "metadata": {},
   "outputs": [
    {
     "name": "stdout",
     "output_type": "stream",
     "text": [
      "Nodes:\t\t\t167\n",
      "Time-stamped links:\t82875\n",
      "Links/Nodes:\t\t496.25748502994014\n",
      "Observation period:\t[1, 57790]\n",
      "Observation length:\t 57789 \n",
      "Time stamps:\t\t 57790 \n",
      "Avg. inter-event dt:\t 1.0\n",
      "Min/Max inter-event dt:\t 1/1\n"
     ]
    }
   ],
   "source": [
    "t = pp.TemporalNetwork()\n",
    "    \n",
    "for i in range (len(data)-1):\n",
    "    t.add_edge(int(data[i,0]), int(data[i,1]), int(data[i,2]))\n",
    "        \n",
    "print(t)\n"
   ]
  },
  {
   "cell_type": "code",
   "execution_count": 5,
   "id": "1313ad12",
   "metadata": {},
   "outputs": [
    {
     "name": "stdout",
     "output_type": "stream",
     "text": [
      "Undirected network\n",
      "Nodes:\t\t\t\t167\n",
      "Links:\t\t\t\t3250\n",
      "\n"
     ]
    }
   ],
   "source": [
    "n = pp.Network()\n",
    "for i in range (len(data)-1):\n",
    "    n.add_edge(int(data[i,0]), int(data[i,1]))\n",
    "        \n",
    "print(n)"
   ]
  },
  {
   "cell_type": "code",
   "execution_count": 6,
   "id": "7e90aab8",
   "metadata": {},
   "outputs": [
    {
     "data": {
      "text/plain": [
       "38.92215568862275"
      ]
     },
     "execution_count": 6,
     "metadata": {},
     "output_type": "execute_result"
    }
   ],
   "source": [
    "pp.algorithms.statistics.mean_degree(n)"
   ]
  },
  {
   "cell_type": "code",
   "execution_count": 8,
   "id": "7d105536",
   "metadata": {},
   "outputs": [],
   "source": [
    "counter = pp.algorithms.statistics.degree_dist(n)\n"
   ]
  },
  {
   "cell_type": "code",
   "execution_count": 9,
   "id": "3f877ee5",
   "metadata": {},
   "outputs": [
    {
     "data": {
      "image/png": "[encoded data removed]",
      "text/plain": [
       "<Figure size 900x600 with 1 Axes>"
      ]
     },
     "metadata": {
      "needs_background": "light"
     },
     "output_type": "display_data"
    }
   ],
   "source": [
    "from matplotlib import pyplot as plt\n",
    "\n",
    "\n",
    "plt.figure().set_dpi(150)\n",
    "plt.title(\"Degree Distribution\")\n",
    "plt.xlabel(\"K\")\n",
    "plt.ylabel(\"P(K)\")\n",
    "plt.bar(counter.keys(), counter.values())\n",
    "plt.show()\n"
   ]
  },
  {
   "cell_type": "code",
   "execution_count": 10,
   "id": "1b953005",
   "metadata": {},
   "outputs": [
    {
     "name": "stdout",
     "output_type": "stream",
     "text": [
      "Nodes:\t\t\t167\n",
      "Time-stamped links:\t82875\n",
      "Links/Nodes:\t\t496.25748502994014\n",
      "Observation period:\t[1, 57790]\n",
      "Observation length:\t 57789 \n",
      "Time stamps:\t\t 57790 \n",
      "Avg. inter-event dt:\t 1.0\n",
      "Min/Max inter-event dt:\t 1/1\n"
     ]
    }
   ],
   "source": [
    "print (t)"
   ]
  },
  {
   "cell_type": "code",
   "execution_count": 12,
   "id": "6ddb2e07",
   "metadata": {},
   "outputs": [
    {
     "ename": "SyntaxError",
     "evalue": "invalid syntax (1711219967.py, line 23)",
     "output_type": "error",
     "traceback": [
      "\u001b[0;36m  Input \u001b[0;32mIn [12]\u001b[0;36m\u001b[0m\n\u001b[0;31m    print iteration_val(57791)\u001b[0m\n\u001b[0m          ^\u001b[0m\n\u001b[0;31mSyntaxError\u001b[0m\u001b[0;31m:\u001b[0m invalid syntax\n"
     ]
    }
   ],
   "source": [
    "import numpy as np\n",
    "from numpy import var\n",
    "from numpy import mean\n",
    "\n",
    "iteration_val = np.zeros(57792)\n",
    "\n",
    "nodes = np.zeros(168)\n",
    "nodes[166] = 1\n",
    "for t in range(57791):\n",
    "    timestep_nodes = data[data[:,2]==t]\n",
    "    infected_nodes = np.where(nodes > 0)[0]\n",
    "    for i in infected_nodes:\n",
    "        for j in range(len(timestep_nodes)):\n",
    "            if (timestep_nodes[j][0] == i):\n",
    "                nodes[timestep_nodes[j][1]] = 1\n",
    "            elif (timestep_nodes[j][1] == i):\n",
    "                nodes[timestep_nodes[j][0]] = 1\n",
    "    iteration_val[t] = len(infected_nodes)\n",
    "\n",
    "\n",
    "\n",
    "\n",
    "print iteration_val(57791)\n",
    "                \n",
    " \n",
    "    "
   ]
  },
  {
   "cell_type": "code",
   "execution_count": 13,
   "id": "1e643f22",
   "metadata": {},
   "outputs": [
    {
     "name": "stdout",
     "output_type": "stream",
     "text": [
      "1\n",
      "2\n",
      "3\n",
      "4\n",
      "5\n",
      "6\n",
      "7\n",
      "8\n",
      "9\n",
      "10\n",
      "11\n",
      "12\n",
      "13\n",
      "14\n",
      "15\n",
      "16\n",
      "17\n",
      "18\n",
      "19\n",
      "20\n",
      "21\n",
      "22\n",
      "23\n",
      "24\n",
      "25\n",
      "26\n",
      "27\n",
      "28\n",
      "29\n",
      "30\n",
      "31\n",
      "32\n",
      "33\n",
      "34\n",
      "35\n",
      "36\n",
      "37\n",
      "38\n",
      "39\n",
      "40\n",
      "41\n",
      "42\n",
      "43\n",
      "44\n",
      "45\n",
      "46\n",
      "47\n",
      "48\n",
      "49\n",
      "50\n",
      "51\n",
      "52\n",
      "53\n",
      "54\n",
      "55\n",
      "56\n",
      "57\n",
      "58\n",
      "59\n",
      "60\n",
      "61\n",
      "62\n",
      "63\n",
      "64\n",
      "65\n",
      "66\n",
      "67\n",
      "68\n",
      "69\n",
      "70\n",
      "71\n",
      "72\n",
      "73\n",
      "74\n",
      "75\n",
      "76\n",
      "77\n",
      "78\n",
      "79\n",
      "80\n",
      "81\n",
      "82\n",
      "83\n",
      "84\n",
      "85\n",
      "86\n",
      "87\n",
      "88\n",
      "89\n",
      "90\n",
      "91\n",
      "92\n",
      "93\n",
      "94\n",
      "95\n",
      "96\n",
      "97\n",
      "98\n",
      "99\n",
      "100\n",
      "101\n",
      "102\n",
      "103\n",
      "104\n",
      "105\n",
      "106\n",
      "107\n",
      "108\n",
      "109\n",
      "110\n",
      "111\n",
      "112\n",
      "113\n",
      "114\n",
      "115\n",
      "116\n",
      "117\n",
      "118\n",
      "119\n",
      "120\n",
      "121\n",
      "122\n",
      "123\n",
      "124\n",
      "125\n",
      "126\n",
      "127\n",
      "128\n",
      "129\n",
      "130\n",
      "131\n",
      "132\n",
      "133\n",
      "134\n",
      "135\n",
      "136\n",
      "137\n",
      "138\n",
      "139\n",
      "140\n",
      "141\n",
      "142\n",
      "143\n",
      "144\n",
      "145\n",
      "146\n",
      "147\n",
      "148\n",
      "149\n",
      "150\n",
      "151\n",
      "152\n",
      "153\n",
      "154\n",
      "155\n",
      "156\n",
      "157\n",
      "158\n",
      "159\n",
      "160\n",
      "161\n",
      "162\n",
      "163\n",
      "164\n",
      "165\n",
      "166\n",
      "167\n",
      "[0. 0. 0. ... 0. 0. 0.]\n",
      "[  1.   1.   2. ... 167. 167.   0.]\n",
      "[  1.   1.   1. ... 167. 167.   0.]\n"
     ]
    }
   ],
   "source": [
    "import numpy as np\n",
    "from numpy import var\n",
    "from numpy import mean\n",
    "\n",
    "iteration_values = np.zeros((57792,168))\n",
    "\n",
    "\n",
    "\n",
    "\n",
    "for n in range(1,168):\n",
    "    nodes = np.zeros(168)\n",
    "    nodes[n] = 1\n",
    "    position_time = 0;\n",
    "    for t in range(57791):\n",
    "        timestep_nodes = [];\n",
    "        while (data[position_time,2]==t):\n",
    "            timestep_nodes.append(data[position_time,:])\n",
    "            position_time+=1\n",
    "\n",
    "        \n",
    "        infected_nodes = np.where(nodes > 0)[0]\n",
    "        for i in infected_nodes:\n",
    "            for j in range(len(timestep_nodes)):\n",
    "                if (timestep_nodes[j][0] == i):\n",
    "                    nodes[timestep_nodes[j][1]] = 1\n",
    "                elif (timestep_nodes[j][1] == i):\n",
    "                    nodes[timestep_nodes[j][0]] = 1\n",
    "        iteration_values[t,n] = len(infected_nodes)\n",
    "        \n",
    "    print(n)\n",
    "\n",
    "\n",
    "\n",
    "print (iteration_values[:,0])\n",
    "print (iteration_values[:,10]) \n",
    "print (iteration_values[:,20]) \n",
    "                "
   ]
  },
  {
   "cell_type": "code",
   "execution_count": 17,
   "id": "9f44e7b3",
   "metadata": {},
   "outputs": [
    {
     "data": {
      "image/png": "[encoded data removed]",
      "text/plain": [
       "<Figure size 900x600 with 1 Axes>"
      ]
     },
     "metadata": {
      "needs_background": "light"
     },
     "output_type": "display_data"
    }
   ],
   "source": [
    "from numpy import var\n",
    "from numpy import mean\n",
    "mean_values = np.zeros(57791)\n",
    "var_values = np.zeros(57791)\n",
    "for t in range(57791):\n",
    "    mean_values[t] = mean(iteration_values[t,:])\n",
    "    var_values[t] = var(iteration_values[t,:])\n",
    "    \n",
    "x = list(range(1, 57792))\n",
    "plt.figure().set_dpi(150)\n",
    "plt.scatter(x,mean_values)\n",
    "plt.show()\n",
    "\n"
   ]
  },
  {
   "cell_type": "code",
   "execution_count": null,
   "id": "e629cfa8",
   "metadata": {},
   "outputs": [],
   "source": []
  }
 ],
 "metadata": {
  "kernelspec": {
   "display_name": "Python 3 (ipykernel)",
   "language": "python",
   "name": "python3"
  },
  "language_info": {
   "codemirror_mode": {
    "name": "ipython",
    "version": 3
   },
   "file_extension": ".py",
   "mimetype": "text/x-python",
   "name": "python",
   "nbconvert_exporter": "python",
   "pygments_lexer": "ipython3",
   "version": "3.9.10"
  }
 },
 "nbformat": 4,
 "nbformat_minor": 5
}
