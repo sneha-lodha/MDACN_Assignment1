{
 "cells": [
  {
   "cell_type": "code",
   "execution_count": 2,
   "id": "238fd9c0",
   "metadata": {},
   "outputs": [],
   "source": [
    "import pandas as pd\n",
    "import pathpy as pp\n",
    "import pathpy.algorithms.statistics as stat\n",
    "import pathpy.algorithms.shortest_paths as shorty\n",
    "import numpy as np\n",
    "import math as m\n",
    "import matplotlib.pyplot as plt\n"
   ]
  },
  {
   "cell_type": "code",
   "execution_count": 3,
   "id": "1b6646ef",
   "metadata": {
    "scrolled": true
   },
   "outputs": [],
   "source": [
    "df = pd.read_excel (r'manufacturing_emails_temporal_network.xlsx')"
   ]
  },
  {
   "cell_type": "code",
   "execution_count": 4,
   "id": "dbcc7957",
   "metadata": {},
   "outputs": [
    {
     "name": "stdout",
     "output_type": "stream",
     "text": [
      "167\n"
     ]
    }
   ],
   "source": [
    "nodes = pd.concat([df[\"node1\"], df[\"node2\"]]).unique()\n",
    "N = len(nodes)\n",
    "print (len(nodes))\n",
    "\n",
    "links = df[[\"node1\",\"node2\"]]\n",
    "links = links.drop_duplicates()\n",
    "L = links.shape[0]"
   ]
  },
  {
   "cell_type": "code",
   "execution_count": 5,
   "id": "8d06c728",
   "metadata": {},
   "outputs": [
    {
     "name": "stdout",
     "output_type": "stream",
     "text": [
      "Nodes:\t\t\t167\n",
      "Time-stamped links:\t82876\n",
      "Links/Nodes:\t\t496.2634730538922\n",
      "Observation period:\t[1, 57791]\n",
      "Observation length:\t 57790 \n",
      "Time stamps:\t\t 57791 \n",
      "Avg. inter-event dt:\t 1.0\n",
      "Min/Max inter-event dt:\t 1/1\n"
     ]
    }
   ],
   "source": [
    "temporal = pp.TemporalNetwork()\n",
    "for ind in df.index:\n",
    "    temporal.add_edge(df['node1'][ind], df['node2'][ind], int(df['timestamp'][ind]))\n",
    "print(temporal)"
   ]
  },
  {
   "cell_type": "code",
   "execution_count": 6,
   "id": "fd9a058d",
   "metadata": {},
   "outputs": [
    {
     "name": "stdout",
     "output_type": "stream",
     "text": [
      "    node1  node2  timestamp\n",
      "16     18     19          2\n"
     ]
    }
   ],
   "source": [
    "# edges = temporal.filter_edges(lambda v, w, time: time == 1)\n",
    "\n",
    "edges = df[df['timestamp'] == 2]\n",
    "\n",
    "\n",
    "print(edges.head(20))"
   ]
  },
  {
   "cell_type": "code",
   "execution_count": 8,
   "id": "7f4bb37d",
   "metadata": {
    "scrolled": true
   },
   "outputs": [
    {
     "name": "stdout",
     "output_type": "stream",
     "text": [
      "1\n",
      "2\n",
      "3\n",
      "4\n",
      "5\n",
      "6\n",
      "7\n",
      "8\n",
      "9\n",
      "10\n",
      "11\n",
      "12\n",
      "13\n",
      "14\n",
      "15\n",
      "16\n",
      "17\n",
      "18\n",
      "19\n",
      "20\n",
      "21\n",
      "22\n",
      "23\n",
      "24\n",
      "25\n",
      "26\n",
      "27\n",
      "28\n",
      "29\n",
      "30\n",
      "31\n",
      "32\n",
      "33\n",
      "34\n",
      "35\n",
      "36\n",
      "37\n",
      "38\n",
      "39\n",
      "40\n",
      "41\n",
      "42\n",
      "43\n",
      "44\n",
      "45\n",
      "46\n",
      "47\n",
      "48\n",
      "49\n",
      "50\n",
      "51\n",
      "52\n",
      "53\n",
      "54\n",
      "55\n",
      "56\n",
      "57\n",
      "58\n",
      "59\n",
      "60\n",
      "61\n",
      "62\n",
      "63\n",
      "64\n",
      "65\n",
      "66\n",
      "67\n",
      "68\n",
      "69\n",
      "70\n",
      "71\n",
      "72\n",
      "73\n",
      "74\n",
      "75\n",
      "76\n",
      "77\n",
      "78\n",
      "79\n",
      "80\n",
      "81\n",
      "82\n",
      "83\n",
      "84\n",
      "85\n",
      "86\n",
      "87\n",
      "88\n",
      "89\n",
      "90\n",
      "91\n",
      "92\n",
      "93\n",
      "94\n",
      "95\n",
      "96\n",
      "97\n",
      "98\n",
      "99\n",
      "100\n",
      "101\n",
      "102\n",
      "103\n",
      "104\n",
      "105\n",
      "106\n",
      "107\n",
      "108\n",
      "109\n",
      "110\n",
      "111\n",
      "112\n",
      "113\n",
      "114\n",
      "115\n",
      "116\n",
      "117\n",
      "118\n",
      "119\n",
      "120\n",
      "121\n",
      "122\n",
      "123\n",
      "124\n",
      "125\n",
      "126\n",
      "127\n",
      "128\n",
      "129\n",
      "130\n",
      "131\n",
      "132\n",
      "133\n",
      "134\n",
      "135\n",
      "136\n",
      "137\n",
      "138\n",
      "139\n",
      "140\n",
      "141\n",
      "142\n",
      "143\n",
      "144\n",
      "145\n",
      "146\n",
      "147\n",
      "148\n",
      "149\n",
      "150\n",
      "151\n",
      "152\n",
      "153\n",
      "154\n",
      "155\n",
      "156\n",
      "157\n",
      "158\n",
      "159\n",
      "160\n",
      "161\n",
      "162\n",
      "163\n",
      "164\n",
      "165\n",
      "166\n",
      "167\n"
     ]
    }
   ],
   "source": [
    "def infect_graph(seed):\n",
    "    end = 57792\n",
    "    infected = {seed}\n",
    "    stop_t = 0\n",
    "    for t in range(1, end):\n",
    "        edges = df[df['timestamp'] == t].to_numpy()\n",
    "        new_infections = set()\n",
    "        for e in edges:\n",
    "            if(e[0] in infected):\n",
    "                new_infections.add(e[1])\n",
    "            elif(e[1] in infected):\n",
    "                new_infections.add(e[0])\n",
    "        infected.update(new_infections)\n",
    "\n",
    "        if(len(infected)/N*100 > 50):\n",
    "#             print(seed)\n",
    "#             print(new_infections)\n",
    "#             print(f\"Stopped at {t}\")\n",
    "            return t\n",
    "\n",
    "ts = {}\n",
    "its = 0\n",
    "for i in nodes:\n",
    "    its = its + 1\n",
    "    print(its)\n",
    "    ts[i] = infect_graph(i)\n",
    "\n",
    "\n"
   ]
  },
  {
   "cell_type": "code",
   "execution_count": 17,
   "id": "bdf59746",
   "metadata": {},
   "outputs": [
    {
     "name": "stdout",
     "output_type": "stream",
     "text": [
      "[  257   262   262   262   262   262   270   285   293   293   329   329\n",
      "   329   329   329   330   330   330   338   338   345   345   345   345\n",
      "   345   345   345   345   345   345   345   345   345   345   345   345\n",
      "   345   345   345   362   363   363   363   363   363   365   365   365\n",
      "   370   378   378   378   380   380   410   410   410   410   414   414\n",
      "   414   414   414   421   421   449   449   449   460   460   460   460\n",
      "   460   461   461   461   486   505   505   505   505   507   507   507\n",
      "   507   507   509   526   552   596   597   673   680   684   692   716\n",
      "   718   718   718   758   762   799   801   838   852   852   852   852\n",
      "   852   852   852  1045  1092  1100  1387  1408  1437  1460  1561  1565\n",
      "  1835  1850  1852  1855  1855  1855  1855  1855  1855  1855  1855  1855\n",
      "  1855  1855  1855  1855  1987  1990  2164  2174  2174  2174  2240  2240\n",
      "  2240  2272  2547  2569  4359  5476  6477 14719 15757 25205 25232 25232\n",
      " 25232 27544 27558 27620 27855 28164 30750 31038 31525 55165 56308]\n",
      "[201.0, 201.58489319246112, 202.51188643150957, 203.981071705535, 206.30957344480194, 210.0, 215.84893192461115, 225.1188643150958, 239.81071705534973, 263.09573444801936, 300.0, 358.48931924611145, 451.1886431509582, 598.1071705534973, 830.9573444801937, 1200.0, 1784.893192461114, 2711.886431509582, 4181.071705534973, 6509.573444801937, 10200.0, 16048.93192461114, 25318.864315095823, 40010.71705534977, 63295.73444801943]\n"
     ]
    },
    {
     "data": {
      "text/plain": [
       "(array([0.00000000e+00, 0.00000000e+00, 0.00000000e+00, 0.00000000e+00,\n",
       "        0.00000000e+00, 0.00000000e+00, 0.00000000e+00, 0.00000000e+00,\n",
       "        1.54297260e-03, 6.49033261e-04, 2.96896419e-03, 1.87328976e-03,\n",
       "        9.37421259e-04, 3.08594519e-04, 1.78484147e-04, 6.14268454e-05,\n",
       "        1.80869357e-04, 0.00000000e+00, 7.71486298e-06, 0.00000000e+00,\n",
       "        2.04756151e-06, 2.58384795e-06, 3.26059568e-06, 5.14324198e-07]),\n",
       " array([  201.        ,   201.58489319,   202.51188643,   203.98107171,\n",
       "          206.30957344,   210.        ,   215.84893192,   225.11886432,\n",
       "          239.81071706,   263.09573445,   300.        ,   358.48931925,\n",
       "          451.18864315,   598.10717055,   830.95734448,  1200.        ,\n",
       "         1784.89319246,  2711.88643151,  4181.07170553,  6509.5734448 ,\n",
       "        10200.        , 16048.93192461, 25318.8643151 , 40010.71705535,\n",
       "        63295.73444802]),\n",
       " <BarContainer object of 24 artists>)"
      ]
     },
     "execution_count": 17,
     "metadata": {},
     "output_type": "execute_result"
    },
    {
     "data": {
      "image/png": "[encoded data removed]",
      "text/plain": [
       "<Figure size 432x288 with 1 Axes>"
      ]
     },
     "metadata": {
      "needs_background": "light"
     },
     "output_type": "display_data"
    }
   ],
   "source": [
    "sts = np.sort(list(ts.values()))\n",
    "print(sts)\n",
    "\n",
    "bins = [ 200 + 10**x for x in np.arange(0,5, 0.2)]\n",
    "print( bins)\n",
    "plt.xscale('log')\n",
    "plt.hist(sts, bins = bins, density=True, log=True)\n"
   ]
  },
  {
   "cell_type": "code",
   "execution_count": null,
   "id": "aeba66a7",
   "metadata": {},
   "outputs": [],
   "source": []
  }
 ],
 "metadata": {
  "kernelspec": {
   "display_name": "Python 3 (ipykernel)",
   "language": "python",
   "name": "python3"
  },
  "language_info": {
   "codemirror_mode": {
    "name": "ipython",
    "version": 3
   },
   "file_extension": ".py",
   "mimetype": "text/x-python",
   "name": "python",
   "nbconvert_exporter": "python",
   "pygments_lexer": "ipython3",
   "version": "3.8.12"
  }
 },
 "nbformat": 4,
 "nbformat_minor": 5
}
