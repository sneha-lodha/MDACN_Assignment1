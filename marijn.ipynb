{
 "cells": [
  {
   "cell_type": "code",
   "execution_count": 2,
   "id": "1b6646ef",
   "metadata": {
    "scrolled": true
   },
   "outputs": [],
   "source": [
    "import pandas as pd\n",
    "\n",
    "df = pd.read_excel (r'manufacturing_emails_temporal_network.xlsx')"
   ]
  },
  {
   "cell_type": "code",
   "execution_count": 16,
   "id": "dbcc7957",
   "metadata": {},
   "outputs": [
    {
     "name": "stdout",
     "output_type": "stream",
     "text": [
      "167\n"
     ]
    }
   ],
   "source": [
    "nodes = pd.concat([df[\"node1\"], df[\"node2\"]]).unique()\n",
    "N = len(nodes)\n",
    "print (len(nodes))"
   ]
  },
  {
   "cell_type": "code",
   "execution_count": 6,
   "id": "8d06c728",
   "metadata": {},
   "outputs": [
    {
     "name": "stdout",
     "output_type": "stream",
     "text": [
      "Nodes:\t\t\t167\n",
      "Time-stamped links:\t82876\n",
      "Links/Nodes:\t\t496.2634730538922\n",
      "Observation period:\t[1, 57791]\n",
      "Observation length:\t 57790 \n",
      "Time stamps:\t\t 57791 \n",
      "Avg. inter-event dt:\t 1.0\n",
      "Min/Max inter-event dt:\t 1/1\n"
     ]
    }
   ],
   "source": [
    "import pathpy as pp\n",
    "\n",
    "temporal = pp.TemporalNetwork()\n",
    "for ind in df.index:\n",
    "    temporal.add_edge(df['node1'][ind], df['node2'][ind], int(df['timestamp'][ind]))\n",
    "print(temporal)"
   ]
  },
  {
   "cell_type": "code",
   "execution_count": 18,
   "id": "c9838f6c",
   "metadata": {},
   "outputs": [
    {
     "data": {
      "text/plain": [
       "38.92215568862275"
      ]
     },
     "execution_count": 18,
     "metadata": {},
     "output_type": "execute_result"
    }
   ],
   "source": [
    "links = df[[\"node1\",\"node2\"]]\n",
    "links = links.drop_duplicates()\n",
    "L = links.shape[0]\n",
    "aD = L*2/N\n",
    "aD"
   ]
  },
  {
   "cell_type": "code",
   "execution_count": 22,
   "id": "b9e5152e",
   "metadata": {},
   "outputs": [
    {
     "name": "stdout",
     "output_type": "stream",
     "text": [
      "Directed network\n",
      "Nodes:\t\t\t\t167\n",
      "Links:\t\t\t\t3250\n",
      "\n"
     ]
    }
   ],
   "source": [
    "net = pp.Network(directed=True)\n",
    "np_links = links.to_numpy()\n",
    "for l in np_links:\n",
    "    net.add_edge(l[0], l[1])\n",
    "print(net)\n",
    "\n",
    "\n"
   ]
  },
  {
   "cell_type": "code",
   "execution_count": null,
   "id": "3950040c",
   "metadata": {},
   "outputs": [],
   "source": []
  }
 ],
 "metadata": {
  "kernelspec": {
   "display_name": "Python 3 (ipykernel)",
   "language": "python",
   "name": "python3"
  },
  "language_info": {
   "codemirror_mode": {
    "name": "ipython",
    "version": 3
   },
   "file_extension": ".py",
   "mimetype": "text/x-python",
   "name": "python",
   "nbconvert_exporter": "python",
   "pygments_lexer": "ipython3",
   "version": "3.8.12"
  }
 },
 "nbformat": 4,
 "nbformat_minor": 5
}
